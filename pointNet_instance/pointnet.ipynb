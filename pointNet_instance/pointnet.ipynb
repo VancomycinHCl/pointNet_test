{
 "cells": [
  {
   "cell_type": "code",
   "execution_count": 4,
   "outputs": [],
   "source": [
    "import torch\n",
    "import torch.nn as nn\n",
    "import torch.nn.functional as F"
   ],
   "metadata": {
    "collapsed": false
   }
  },
  {
   "cell_type": "code",
   "execution_count": 5,
   "outputs": [],
   "source": [
    "class T_Net3(nn.Module):\n",
    "    def __init__(self,channel):\n",
    "        super(T_Net3, self).__init__()\n",
    "        self.conv_1 = nn.Conv1d(channel,64,1)\n",
    "        self.conv_2 = nn.Conv1d(channel,256,1)\n",
    "        self.conv_3 = nn.Conv1d(channel,1024,1)\n",
    "        self.fc_1 = nn.Linear(1024,256)\n",
    "        self.fc_2 = nn.Linear(256,64)\n",
    "        self.fc_3 = nn.Linear(64,9)\n",
    "        self.relu = nn.ReLU()"
   ],
   "metadata": {
    "collapsed": false
   }
  },
  {
   "cell_type": "code",
   "execution_count": null,
   "outputs": [],
   "source": [],
   "metadata": {
    "collapsed": false
   }
  }
 ],
 "metadata": {
  "kernelspec": {
   "name": "conda-env-point-py",
   "language": "python",
   "display_name": "Python [conda env:point] *"
  },
  "language_info": {
   "codemirror_mode": {
    "name": "ipython",
    "version": 2
   },
   "file_extension": ".py",
   "mimetype": "text/x-python",
   "name": "python",
   "nbconvert_exporter": "python",
   "pygments_lexer": "ipython2",
   "version": "2.7.6"
  }
 },
 "nbformat": 4,
 "nbformat_minor": 0
}
